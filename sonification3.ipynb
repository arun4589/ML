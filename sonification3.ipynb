{
 "cells": [
  {
   "cell_type": "code",
   "execution_count": 42,
   "id": "ae6b5378-8d60-4aa2-8ca5-f734163d2a5c",
   "metadata": {},
   "outputs": [],
   "source": [
    "import numpy as np\n",
    "from PIL import Image\n",
    "from pydub import AudioSegment\n",
    "from pydub.generators import Sine\n",
    "\n",
    "def load_image(image_path, target_resolution=(1920, 1080)):\n",
    "    # Load and resize the image to the target resolution\n",
    "    image = Image.open(image_path).convert('L')\n",
    "    image = image.resize(target_resolution, Image.Resampling.LANCZOS)\n",
    "    image_data = np.array(image)\n",
    "    return image_data\n",
    "\n",
    "def map_brightness_to_frequency(image_data, min_freq=220, max_freq=880):\n",
    "    # Normalize pixel values to range from 0 to 1 and map to frequency range\n",
    "    norm_image_data = image_data / 255.0\n",
    "    frequencies = min_freq + (max_freq - min_freq) * norm_image_data\n",
    "    return frequencies\n",
    "\n",
    "def generate_sound_with_pydub(frequencies, duration_per_tone=5, sample_rate=44100):\n",
    "    # Generate an audio signal using pydub for a subset of frequencies\n",
    "    h, w = frequencies.shape\n",
    "    audio_signal = AudioSegment.silent(duration=0)\n",
    "\n",
    "    # Subsample image data to reduce the number of tones\n",
    "    stride = max(1, int(np.sqrt((h * w) / ((sample_rate // 1000) * duration_per_tone * 2))))  # Stride based on desired audio length\n",
    "    subsampled_frequencies = frequencies[::stride, ::stride]\n",
    "\n",
    "    # Generate sound for each subsampled frequency\n",
    "    for freq in subsampled_frequencies.flatten():\n",
    "        tone = Sine(freq).to_audio_segment(duration=duration_per_tone)\n",
    "        audio_signal += tone\n",
    "    \n",
    "    return audio_signal\n",
    "\n",
    "def save_sound_to_wav(audio_signal, output_file='output_sound2.wav'):\n",
    "    # Export the audio signal as a WAV file\n",
    "    audio_signal.export(output_file, format=\"wav\")\n",
    "\n",
    "# Example usage\n",
    "image_path = 'space.jpg'\n",
    "image_data = load_image(image_path, target_resolution=(1920, 1080))\n",
    "frequencies = map_brightness_to_frequency(image_data)\n",
    "\n",
    "# Set duration_per_tone to achieve a total audio length between 30s and 2min\n",
    "# Adjusting stride and duration_per_tone will help fine-tune the length\n",
    "duration_per_tone = 25  # Duration per tone in milliseconds\n",
    "\n",
    "audio_signal = generate_sound_with_pydub(frequencies, duration_per_tone=duration_per_tone)\n",
    "save_sound_to_wav(audio_signal)\n"
   ]
  },
  {
   "cell_type": "code",
   "execution_count": null,
   "id": "15d14352-263e-4859-9acb-db3fda5c6a93",
   "metadata": {},
   "outputs": [],
   "source": []
  }
 ],
 "metadata": {
  "kernelspec": {
   "display_name": "Python 3 (ipykernel)",
   "language": "python",
   "name": "python3"
  },
  "language_info": {
   "codemirror_mode": {
    "name": "ipython",
    "version": 3
   },
   "file_extension": ".py",
   "mimetype": "text/x-python",
   "name": "python",
   "nbconvert_exporter": "python",
   "pygments_lexer": "ipython3",
   "version": "3.10.11"
  }
 },
 "nbformat": 4,
 "nbformat_minor": 5
}
