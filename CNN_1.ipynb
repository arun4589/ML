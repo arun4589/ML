{
  "cells": [
    {
      "cell_type": "markdown",
      "metadata": {
        "id": "view-in-github",
        "colab_type": "text"
      },
      "source": [
        "<a href=\"https://colab.research.google.com/github/arun4589/ML/blob/main/CNN_1.ipynb\" target=\"_parent\"><img src=\"https://colab.research.google.com/assets/colab-badge.svg\" alt=\"Open In Colab\"/></a>"
      ]
    },
    {
      "cell_type": "code",
      "execution_count": 1,
      "metadata": {
        "id": "h4RSwSt-HNsw"
      },
      "outputs": [],
      "source": [
        "from tensorflow.keras.datasets import mnist"
      ]
    },
    {
      "cell_type": "code",
      "execution_count": 2,
      "metadata": {
        "colab": {
          "base_uri": "https://localhost:8080/"
        },
        "id": "jYkxXak2Hlaw",
        "outputId": "fb12e3c1-3c7c-4b24-fde7-2fa041b92a19"
      },
      "outputs": [
        {
          "output_type": "stream",
          "name": "stdout",
          "text": [
            "Downloading data from https://storage.googleapis.com/tensorflow/tf-keras-datasets/mnist.npz\n",
            "\u001b[1m11490434/11490434\u001b[0m \u001b[32m━━━━━━━━━━━━━━━━━━━━\u001b[0m\u001b[37m\u001b[0m \u001b[1m0s\u001b[0m 0us/step\n"
          ]
        }
      ],
      "source": [
        "(x_train,y_train),(x_test,y_test)=mnist.load_data()"
      ]
    },
    {
      "cell_type": "code",
      "execution_count": 3,
      "metadata": {
        "colab": {
          "base_uri": "https://localhost:8080/"
        },
        "id": "FqTyyaChHpGZ",
        "outputId": "90a2578e-09f7-430f-f3c6-9c930fed2621"
      },
      "outputs": [
        {
          "output_type": "stream",
          "name": "stdout",
          "text": [
            "[5 0 4 1 9 2 1 3 1 4]\n",
            "[[0. 0. 0. 0. 0. 1. 0. 0. 0. 0.]\n",
            " [1. 0. 0. 0. 0. 0. 0. 0. 0. 0.]\n",
            " [0. 0. 0. 0. 1. 0. 0. 0. 0. 0.]\n",
            " [0. 1. 0. 0. 0. 0. 0. 0. 0. 0.]\n",
            " [0. 0. 0. 0. 0. 0. 0. 0. 0. 1.]\n",
            " [0. 0. 1. 0. 0. 0. 0. 0. 0. 0.]\n",
            " [0. 1. 0. 0. 0. 0. 0. 0. 0. 0.]\n",
            " [0. 0. 0. 1. 0. 0. 0. 0. 0. 0.]\n",
            " [0. 1. 0. 0. 0. 0. 0. 0. 0. 0.]\n",
            " [0. 0. 0. 0. 1. 0. 0. 0. 0. 0.]]\n"
          ]
        }
      ],
      "source": [
        "from tensorflow.keras.utils import to_categorical\n",
        "print(y_train[:10])\n",
        "y_train=to_categorical(y_train,10)\n",
        "y_test=to_categorical(y_test,10)\n",
        "print(y_train[:10])"
      ]
    },
    {
      "cell_type": "code",
      "execution_count": 4,
      "metadata": {
        "id": "1dm21tpbINoJ"
      },
      "outputs": [],
      "source": [
        "## above we have one hot encoded our outputs (total outputs are 10 so first we printed initial 10 outputs in y_train and then we printed their onr hot encoded form)"
      ]
    },
    {
      "cell_type": "code",
      "execution_count": 5,
      "metadata": {
        "colab": {
          "base_uri": "https://localhost:8080/"
        },
        "id": "0PFiWl2qICEb",
        "outputId": "0ffa4afe-f3bd-4458-a3f7-fc2f98e2dc2f"
      },
      "outputs": [
        {
          "output_type": "execute_result",
          "data": {
            "text/plain": [
              "60000"
            ]
          },
          "metadata": {},
          "execution_count": 5
        }
      ],
      "source": [
        "x_train.shape[0]"
      ]
    },
    {
      "cell_type": "code",
      "execution_count": 6,
      "metadata": {
        "id": "PppIK7NkI2Ko"
      },
      "outputs": [],
      "source": [
        "row , col = 28,28\n",
        "x_train=x_train.reshape(x_train.shape[0],row,col,1)\n",
        "x_test=x_test.reshape(x_test.shape[0],row,col,1)\n",
        "input_shape=(row,col,1)\n",
        "\n"
      ]
    },
    {
      "cell_type": "code",
      "execution_count": 7,
      "metadata": {
        "colab": {
          "base_uri": "https://localhost:8080/",
          "height": 408
        },
        "id": "kJX6H7Y-JpZy",
        "outputId": "18ae3c5b-14d6-4c6a-d9e8-5d1c73bf80d2"
      },
      "outputs": [
        {
          "output_type": "stream",
          "name": "stderr",
          "text": [
            "/usr/local/lib/python3.10/dist-packages/keras/src/layers/convolutional/base_conv.py:107: UserWarning: Do not pass an `input_shape`/`input_dim` argument to a layer. When using Sequential models, prefer using an `Input(shape)` object as the first layer in the model instead.\n",
            "  super().__init__(activity_regularizer=activity_regularizer, **kwargs)\n"
          ]
        },
        {
          "output_type": "display_data",
          "data": {
            "text/plain": [
              "\u001b[1mModel: \"sequential\"\u001b[0m\n"
            ],
            "text/html": [
              "<pre style=\"white-space:pre;overflow-x:auto;line-height:normal;font-family:Menlo,'DejaVu Sans Mono',consolas,'Courier New',monospace\"><span style=\"font-weight: bold\">Model: \"sequential\"</span>\n",
              "</pre>\n"
            ]
          },
          "metadata": {}
        },
        {
          "output_type": "display_data",
          "data": {
            "text/plain": [
              "┏━━━━━━━━━━━━━━━━━━━━━━━━━━━━━━━━━━━━━━┳━━━━━━━━━━━━━━━━━━━━━━━━━━━━━┳━━━━━━━━━━━━━━━━━┓\n",
              "┃\u001b[1m \u001b[0m\u001b[1mLayer (type)                        \u001b[0m\u001b[1m \u001b[0m┃\u001b[1m \u001b[0m\u001b[1mOutput Shape               \u001b[0m\u001b[1m \u001b[0m┃\u001b[1m \u001b[0m\u001b[1m        Param #\u001b[0m\u001b[1m \u001b[0m┃\n",
              "┡━━━━━━━━━━━━━━━━━━━━━━━━━━━━━━━━━━━━━━╇━━━━━━━━━━━━━━━━━━━━━━━━━━━━━╇━━━━━━━━━━━━━━━━━┩\n",
              "│ conv2d (\u001b[38;5;33mConv2D\u001b[0m)                      │ (\u001b[38;5;45mNone\u001b[0m, \u001b[38;5;34m28\u001b[0m, \u001b[38;5;34m28\u001b[0m, \u001b[38;5;34m32\u001b[0m)          │             \u001b[38;5;34m320\u001b[0m │\n",
              "├──────────────────────────────────────┼─────────────────────────────┼─────────────────┤\n",
              "│ max_pooling2d (\u001b[38;5;33mMaxPooling2D\u001b[0m)         │ (\u001b[38;5;45mNone\u001b[0m, \u001b[38;5;34m14\u001b[0m, \u001b[38;5;34m14\u001b[0m, \u001b[38;5;34m32\u001b[0m)          │               \u001b[38;5;34m0\u001b[0m │\n",
              "├──────────────────────────────────────┼─────────────────────────────┼─────────────────┤\n",
              "│ conv2d_1 (\u001b[38;5;33mConv2D\u001b[0m)                    │ (\u001b[38;5;45mNone\u001b[0m, \u001b[38;5;34m14\u001b[0m, \u001b[38;5;34m14\u001b[0m, \u001b[38;5;34m64\u001b[0m)          │          \u001b[38;5;34m18,496\u001b[0m │\n",
              "├──────────────────────────────────────┼─────────────────────────────┼─────────────────┤\n",
              "│ max_pooling2d_1 (\u001b[38;5;33mMaxPooling2D\u001b[0m)       │ (\u001b[38;5;45mNone\u001b[0m, \u001b[38;5;34m7\u001b[0m, \u001b[38;5;34m7\u001b[0m, \u001b[38;5;34m64\u001b[0m)            │               \u001b[38;5;34m0\u001b[0m │\n",
              "├──────────────────────────────────────┼─────────────────────────────┼─────────────────┤\n",
              "│ flatten (\u001b[38;5;33mFlatten\u001b[0m)                    │ (\u001b[38;5;45mNone\u001b[0m, \u001b[38;5;34m3136\u001b[0m)                │               \u001b[38;5;34m0\u001b[0m │\n",
              "├──────────────────────────────────────┼─────────────────────────────┼─────────────────┤\n",
              "│ dense (\u001b[38;5;33mDense\u001b[0m)                        │ (\u001b[38;5;45mNone\u001b[0m, \u001b[38;5;34m64\u001b[0m)                  │         \u001b[38;5;34m200,768\u001b[0m │\n",
              "├──────────────────────────────────────┼─────────────────────────────┼─────────────────┤\n",
              "│ dense_1 (\u001b[38;5;33mDense\u001b[0m)                      │ (\u001b[38;5;45mNone\u001b[0m, \u001b[38;5;34m10\u001b[0m)                  │             \u001b[38;5;34m650\u001b[0m │\n",
              "└──────────────────────────────────────┴─────────────────────────────┴─────────────────┘\n"
            ],
            "text/html": [
              "<pre style=\"white-space:pre;overflow-x:auto;line-height:normal;font-family:Menlo,'DejaVu Sans Mono',consolas,'Courier New',monospace\">┏━━━━━━━━━━━━━━━━━━━━━━━━━━━━━━━━━━━━━━┳━━━━━━━━━━━━━━━━━━━━━━━━━━━━━┳━━━━━━━━━━━━━━━━━┓\n",
              "┃<span style=\"font-weight: bold\"> Layer (type)                         </span>┃<span style=\"font-weight: bold\"> Output Shape                </span>┃<span style=\"font-weight: bold\">         Param # </span>┃\n",
              "┡━━━━━━━━━━━━━━━━━━━━━━━━━━━━━━━━━━━━━━╇━━━━━━━━━━━━━━━━━━━━━━━━━━━━━╇━━━━━━━━━━━━━━━━━┩\n",
              "│ conv2d (<span style=\"color: #0087ff; text-decoration-color: #0087ff\">Conv2D</span>)                      │ (<span style=\"color: #00d7ff; text-decoration-color: #00d7ff\">None</span>, <span style=\"color: #00af00; text-decoration-color: #00af00\">28</span>, <span style=\"color: #00af00; text-decoration-color: #00af00\">28</span>, <span style=\"color: #00af00; text-decoration-color: #00af00\">32</span>)          │             <span style=\"color: #00af00; text-decoration-color: #00af00\">320</span> │\n",
              "├──────────────────────────────────────┼─────────────────────────────┼─────────────────┤\n",
              "│ max_pooling2d (<span style=\"color: #0087ff; text-decoration-color: #0087ff\">MaxPooling2D</span>)         │ (<span style=\"color: #00d7ff; text-decoration-color: #00d7ff\">None</span>, <span style=\"color: #00af00; text-decoration-color: #00af00\">14</span>, <span style=\"color: #00af00; text-decoration-color: #00af00\">14</span>, <span style=\"color: #00af00; text-decoration-color: #00af00\">32</span>)          │               <span style=\"color: #00af00; text-decoration-color: #00af00\">0</span> │\n",
              "├──────────────────────────────────────┼─────────────────────────────┼─────────────────┤\n",
              "│ conv2d_1 (<span style=\"color: #0087ff; text-decoration-color: #0087ff\">Conv2D</span>)                    │ (<span style=\"color: #00d7ff; text-decoration-color: #00d7ff\">None</span>, <span style=\"color: #00af00; text-decoration-color: #00af00\">14</span>, <span style=\"color: #00af00; text-decoration-color: #00af00\">14</span>, <span style=\"color: #00af00; text-decoration-color: #00af00\">64</span>)          │          <span style=\"color: #00af00; text-decoration-color: #00af00\">18,496</span> │\n",
              "├──────────────────────────────────────┼─────────────────────────────┼─────────────────┤\n",
              "│ max_pooling2d_1 (<span style=\"color: #0087ff; text-decoration-color: #0087ff\">MaxPooling2D</span>)       │ (<span style=\"color: #00d7ff; text-decoration-color: #00d7ff\">None</span>, <span style=\"color: #00af00; text-decoration-color: #00af00\">7</span>, <span style=\"color: #00af00; text-decoration-color: #00af00\">7</span>, <span style=\"color: #00af00; text-decoration-color: #00af00\">64</span>)            │               <span style=\"color: #00af00; text-decoration-color: #00af00\">0</span> │\n",
              "├──────────────────────────────────────┼─────────────────────────────┼─────────────────┤\n",
              "│ flatten (<span style=\"color: #0087ff; text-decoration-color: #0087ff\">Flatten</span>)                    │ (<span style=\"color: #00d7ff; text-decoration-color: #00d7ff\">None</span>, <span style=\"color: #00af00; text-decoration-color: #00af00\">3136</span>)                │               <span style=\"color: #00af00; text-decoration-color: #00af00\">0</span> │\n",
              "├──────────────────────────────────────┼─────────────────────────────┼─────────────────┤\n",
              "│ dense (<span style=\"color: #0087ff; text-decoration-color: #0087ff\">Dense</span>)                        │ (<span style=\"color: #00d7ff; text-decoration-color: #00d7ff\">None</span>, <span style=\"color: #00af00; text-decoration-color: #00af00\">64</span>)                  │         <span style=\"color: #00af00; text-decoration-color: #00af00\">200,768</span> │\n",
              "├──────────────────────────────────────┼─────────────────────────────┼─────────────────┤\n",
              "│ dense_1 (<span style=\"color: #0087ff; text-decoration-color: #0087ff\">Dense</span>)                      │ (<span style=\"color: #00d7ff; text-decoration-color: #00d7ff\">None</span>, <span style=\"color: #00af00; text-decoration-color: #00af00\">10</span>)                  │             <span style=\"color: #00af00; text-decoration-color: #00af00\">650</span> │\n",
              "└──────────────────────────────────────┴─────────────────────────────┴─────────────────┘\n",
              "</pre>\n"
            ]
          },
          "metadata": {}
        },
        {
          "output_type": "display_data",
          "data": {
            "text/plain": [
              "\u001b[1m Total params: \u001b[0m\u001b[38;5;34m220,234\u001b[0m (860.29 KB)\n"
            ],
            "text/html": [
              "<pre style=\"white-space:pre;overflow-x:auto;line-height:normal;font-family:Menlo,'DejaVu Sans Mono',consolas,'Courier New',monospace\"><span style=\"font-weight: bold\"> Total params: </span><span style=\"color: #00af00; text-decoration-color: #00af00\">220,234</span> (860.29 KB)\n",
              "</pre>\n"
            ]
          },
          "metadata": {}
        },
        {
          "output_type": "display_data",
          "data": {
            "text/plain": [
              "\u001b[1m Trainable params: \u001b[0m\u001b[38;5;34m220,234\u001b[0m (860.29 KB)\n"
            ],
            "text/html": [
              "<pre style=\"white-space:pre;overflow-x:auto;line-height:normal;font-family:Menlo,'DejaVu Sans Mono',consolas,'Courier New',monospace\"><span style=\"font-weight: bold\"> Trainable params: </span><span style=\"color: #00af00; text-decoration-color: #00af00\">220,234</span> (860.29 KB)\n",
              "</pre>\n"
            ]
          },
          "metadata": {}
        },
        {
          "output_type": "display_data",
          "data": {
            "text/plain": [
              "\u001b[1m Non-trainable params: \u001b[0m\u001b[38;5;34m0\u001b[0m (0.00 B)\n"
            ],
            "text/html": [
              "<pre style=\"white-space:pre;overflow-x:auto;line-height:normal;font-family:Menlo,'DejaVu Sans Mono',consolas,'Courier New',monospace\"><span style=\"font-weight: bold\"> Non-trainable params: </span><span style=\"color: #00af00; text-decoration-color: #00af00\">0</span> (0.00 B)\n",
              "</pre>\n"
            ]
          },
          "metadata": {}
        }
      ],
      "source": [
        "## now we will do the most important part of CNN : THE ARCHITECTURE\n",
        "from tensorflow.keras.models import Sequential\n",
        "from tensorflow.keras.layers import Dense,Conv2D,MaxPooling2D,Flatten, Dropout\n",
        "# build model object\n",
        "model = Sequential()\n",
        "# convolution layer with relu activation and depth=32 kernals\n",
        "model.add(Conv2D(32,kernel_size=(3,3),padding =\"same\",activation='relu',input_shape=(28,28,1))) # after this image become 32*28*28\n",
        "# max pooling layer => downsample the image to chose best features\n",
        "model.add(MaxPooling2D(pool_size=(2,2))) # after this image = 32*14*14\n",
        "# adding another conv layer to increas depth=64\n",
        "model.add(Conv2D(64,kernel_size=(3,3),padding =\"same\",activation='relu')) # image=64*14*14\n",
        "# adding pooling layer\n",
        "model.add(MaxPooling2D(pool_size=(2,2))) # image=64*7*7\n",
        "## we have completed the convolution part now the rest process remain same as ANN\n",
        "model.add(Flatten()) # image=64*49=3136(total input to first hidden layer)\n",
        "model.add(Dense( 64, activation='relu'))# hidden layer1\n",
        "model.add(Dense(10,activation='softmax')) #output layer\n",
        "model.summary()\n"
      ]
    },
    {
      "cell_type": "code",
      "execution_count": 8,
      "metadata": {
        "id": "DCRPztZ5NHh2"
      },
      "outputs": [],
      "source": [
        "model.compile(optimizer='rmsprop',loss='categorical_crossentropy',metrics=['accuracy'])"
      ]
    },
    {
      "cell_type": "code",
      "execution_count": 9,
      "metadata": {
        "colab": {
          "base_uri": "https://localhost:8080/"
        },
        "id": "sPzo_FGTNhav",
        "outputId": "1b5c361e-1a43-471b-fbea-739897b40483"
      },
      "outputs": [
        {
          "output_type": "stream",
          "name": "stdout",
          "text": [
            "Epoch 1/20\n",
            "\n",
            "Epoch 1: val_loss improved from inf to 0.05695, saving model to mnist.keras\n",
            "938/938 - 12s - 12ms/step - accuracy: 0.9465 - loss: 0.4218 - val_accuracy: 0.9818 - val_loss: 0.0569\n",
            "Epoch 2/20\n",
            "\n",
            "Epoch 2: val_loss did not improve from 0.05695\n",
            "938/938 - 2s - 2ms/step - accuracy: 0.9826 - loss: 0.0612 - val_accuracy: 0.9787 - val_loss: 0.0735\n",
            "Epoch 3/20\n",
            "\n",
            "Epoch 3: val_loss did not improve from 0.05695\n",
            "938/938 - 3s - 3ms/step - accuracy: 0.9877 - loss: 0.0415 - val_accuracy: 0.9806 - val_loss: 0.0766\n",
            "Epoch 4/20\n",
            "\n",
            "Epoch 4: val_loss did not improve from 0.05695\n",
            "938/938 - 3s - 3ms/step - accuracy: 0.9905 - loss: 0.0344 - val_accuracy: 0.9826 - val_loss: 0.0786\n",
            "Epoch 5/20\n",
            "\n",
            "Epoch 5: val_loss improved from 0.05695 to 0.05245, saving model to mnist.keras\n",
            "938/938 - 2s - 3ms/step - accuracy: 0.9927 - loss: 0.0268 - val_accuracy: 0.9878 - val_loss: 0.0525\n",
            "Epoch 6/20\n",
            "\n",
            "Epoch 6: val_loss improved from 0.05245 to 0.04935, saving model to mnist.keras\n",
            "938/938 - 2s - 3ms/step - accuracy: 0.9930 - loss: 0.0277 - val_accuracy: 0.9880 - val_loss: 0.0493\n",
            "Epoch 7/20\n",
            "\n",
            "Epoch 7: val_loss did not improve from 0.04935\n",
            "938/938 - 2s - 2ms/step - accuracy: 0.9942 - loss: 0.0222 - val_accuracy: 0.9854 - val_loss: 0.0830\n",
            "Epoch 8/20\n",
            "\n",
            "Epoch 8: val_loss did not improve from 0.04935\n",
            "938/938 - 2s - 2ms/step - accuracy: 0.9952 - loss: 0.0194 - val_accuracy: 0.9877 - val_loss: 0.0703\n",
            "Epoch 9/20\n",
            "\n",
            "Epoch 9: val_loss did not improve from 0.04935\n",
            "938/938 - 3s - 3ms/step - accuracy: 0.9953 - loss: 0.0199 - val_accuracy: 0.9876 - val_loss: 0.1070\n",
            "Epoch 10/20\n",
            "\n",
            "Epoch 10: val_loss did not improve from 0.04935\n",
            "938/938 - 2s - 2ms/step - accuracy: 0.9961 - loss: 0.0178 - val_accuracy: 0.9873 - val_loss: 0.1093\n",
            "Epoch 11/20\n",
            "\n",
            "Epoch 11: val_loss did not improve from 0.04935\n",
            "938/938 - 3s - 3ms/step - accuracy: 0.9962 - loss: 0.0188 - val_accuracy: 0.9871 - val_loss: 0.1035\n",
            "Epoch 12/20\n",
            "\n",
            "Epoch 12: val_loss did not improve from 0.04935\n",
            "938/938 - 2s - 3ms/step - accuracy: 0.9965 - loss: 0.0157 - val_accuracy: 0.9885 - val_loss: 0.1020\n",
            "Epoch 13/20\n",
            "\n",
            "Epoch 13: val_loss did not improve from 0.04935\n",
            "938/938 - 3s - 3ms/step - accuracy: 0.9971 - loss: 0.0140 - val_accuracy: 0.9882 - val_loss: 0.1193\n",
            "Epoch 14/20\n",
            "\n",
            "Epoch 14: val_loss did not improve from 0.04935\n",
            "938/938 - 3s - 3ms/step - accuracy: 0.9967 - loss: 0.0166 - val_accuracy: 0.9883 - val_loss: 0.1348\n",
            "Epoch 15/20\n",
            "\n",
            "Epoch 15: val_loss did not improve from 0.04935\n",
            "938/938 - 2s - 2ms/step - accuracy: 0.9972 - loss: 0.0158 - val_accuracy: 0.9873 - val_loss: 0.1228\n",
            "Epoch 16/20\n",
            "\n",
            "Epoch 16: val_loss did not improve from 0.04935\n",
            "938/938 - 2s - 2ms/step - accuracy: 0.9973 - loss: 0.0159 - val_accuracy: 0.9903 - val_loss: 0.1086\n",
            "Epoch 17/20\n",
            "\n",
            "Epoch 17: val_loss did not improve from 0.04935\n",
            "938/938 - 2s - 2ms/step - accuracy: 0.9977 - loss: 0.0131 - val_accuracy: 0.9890 - val_loss: 0.1178\n",
            "Epoch 18/20\n",
            "\n",
            "Epoch 18: val_loss did not improve from 0.04935\n",
            "938/938 - 3s - 3ms/step - accuracy: 0.9977 - loss: 0.0123 - val_accuracy: 0.9873 - val_loss: 0.1654\n",
            "Epoch 19/20\n",
            "\n",
            "Epoch 19: val_loss did not improve from 0.04935\n",
            "938/938 - 3s - 3ms/step - accuracy: 0.9978 - loss: 0.0133 - val_accuracy: 0.9852 - val_loss: 0.2307\n",
            "Epoch 20/20\n",
            "\n",
            "Epoch 20: val_loss did not improve from 0.04935\n",
            "938/938 - 2s - 2ms/step - accuracy: 0.9977 - loss: 0.0122 - val_accuracy: 0.9851 - val_loss: 0.2024\n"
          ]
        }
      ],
      "source": [
        "from tensorflow.keras.callbacks import ModelCheckpoint\n",
        "checkpoint = ModelCheckpoint(\"mnist.keras\",verbose=1,save_best_only=True)\n",
        "hist=model.fit(x_train,y_train,batch_size=64,epochs=20,validation_data=(x_test,y_test),callbacks=[checkpoint],verbose=2,shuffle=True)"
      ]
    },
    {
      "cell_type": "code",
      "execution_count": 10,
      "metadata": {
        "id": "7JSpCY59OVfJ",
        "colab": {
          "base_uri": "https://localhost:8080/"
        },
        "outputId": "19881b22-3e20-4157-ce90-9403f89c2983"
      },
      "outputs": [
        {
          "output_type": "stream",
          "name": "stdout",
          "text": [
            "Test loss: 0.20240598917007446\n",
            "Test accuracy: 0.9850999712944031\n"
          ]
        }
      ],
      "source": [
        "score=model.evaluate(x_test,y_test,verbose=0)\n",
        "print('Test loss:',score[0])\n",
        "print('Test accuracy:',score[1])"
      ]
    },
    {
      "cell_type": "markdown",
      "source": [
        "NOW we will work with RGB images"
      ],
      "metadata": {
        "id": "wJocIrFw0-7l"
      }
    },
    {
      "cell_type": "code",
      "source": [
        "import keras\n",
        "from keras.datasets import cifar10"
      ],
      "metadata": {
        "id": "KuN4Z5xO07PL"
      },
      "execution_count": 11,
      "outputs": []
    },
    {
      "cell_type": "code",
      "source": [
        "(x_train,y_train),(x_test,y_test)=cifar10.load_data()"
      ],
      "metadata": {
        "colab": {
          "base_uri": "https://localhost:8080/"
        },
        "id": "I3RvGk_41IHa",
        "outputId": "9cc52aa0-1d20-427a-c706-8b74d568159a"
      },
      "execution_count": 12,
      "outputs": [
        {
          "output_type": "stream",
          "name": "stdout",
          "text": [
            "Downloading data from https://www.cs.toronto.edu/~kriz/cifar-10-python.tar.gz\n",
            "\u001b[1m170498071/170498071\u001b[0m \u001b[32m━━━━━━━━━━━━━━━━━━━━\u001b[0m\u001b[37m\u001b[0m \u001b[1m6s\u001b[0m 0us/step\n"
          ]
        }
      ]
    },
    {
      "cell_type": "code",
      "source": [
        "x_train=x_train.astype('float32')/255.\n",
        "x_test=x_test.astype('float32')/255.\n"
      ],
      "metadata": {
        "id": "5PonQ_zY1L-f"
      },
      "execution_count": 13,
      "outputs": []
    },
    {
      "cell_type": "code",
      "source": [
        "import numpy as np\n",
        "from tensorflow.keras.utils import to_categorical\n",
        "num_classes=len(np.unique(y_train))\n",
        "print(num_classes)\n",
        "y_train=to_categorical(y_train,num_classes)\n",
        "y_test=to_categorical(y_test,num_classes)\n",
        "(x_train,x_valid)=x_train[5000:],x_train[:5000]\n",
        "(y_train,y_valid)=y_train[5000:],y_train[:5000]\n"
      ],
      "metadata": {
        "colab": {
          "base_uri": "https://localhost:8080/"
        },
        "id": "mocj_zPk1ffH",
        "outputId": "543b2505-a620-42ff-b730-db06b5b923cc"
      },
      "execution_count": 14,
      "outputs": [
        {
          "output_type": "stream",
          "name": "stdout",
          "text": [
            "10\n"
          ]
        }
      ]
    },
    {
      "cell_type": "code",
      "source": [
        "x_train.shape"
      ],
      "metadata": {
        "colab": {
          "base_uri": "https://localhost:8080/"
        },
        "id": "qWRzVUYt11lF",
        "outputId": "0ed8ecf4-c286-4715-e317-c2d12c94e3d2"
      },
      "execution_count": 15,
      "outputs": [
        {
          "output_type": "execute_result",
          "data": {
            "text/plain": [
              "(45000, 32, 32, 3)"
            ]
          },
          "metadata": {},
          "execution_count": 15
        }
      ]
    },
    {
      "cell_type": "code",
      "source": [
        "x_test.shape"
      ],
      "metadata": {
        "colab": {
          "base_uri": "https://localhost:8080/"
        },
        "id": "i2Zg_alW135l",
        "outputId": "f027ba0c-7245-43e6-fbb0-8eb91cf4e1c5"
      },
      "execution_count": 16,
      "outputs": [
        {
          "output_type": "execute_result",
          "data": {
            "text/plain": [
              "(10000, 32, 32, 3)"
            ]
          },
          "metadata": {},
          "execution_count": 16
        }
      ]
    },
    {
      "cell_type": "code",
      "source": [
        "x_valid.shape"
      ],
      "metadata": {
        "colab": {
          "base_uri": "https://localhost:8080/"
        },
        "id": "LXnudkNU16MZ",
        "outputId": "c0238cef-f838-4178-a1bc-17a27260e21a"
      },
      "execution_count": 17,
      "outputs": [
        {
          "output_type": "execute_result",
          "data": {
            "text/plain": [
              "(5000, 32, 32, 3)"
            ]
          },
          "metadata": {},
          "execution_count": 17
        }
      ]
    },
    {
      "cell_type": "code",
      "source": [
        "from keras.models import Sequential\n",
        "from keras.layers import Dense,Dropout,Flatten,Conv2D,MaxPooling2D\n",
        "model_1=Sequential()\n",
        "model_1.add(Conv2D(16,kernel_size=3,padding='same',activation='relu',input_shape=(32,32,3))) # we took input size =32*32*3 because we have 3 channels RGB\n",
        "model_1.add(MaxPooling2D(pool_size=2))\n",
        "model_1.add(Conv2D(32,kernel_size=3,padding='same',activation='relu'))\n",
        "model_1.add(MaxPooling2D(pool_size=2))\n",
        "model_1.add(Conv2D(64,kernel_size=3,padding='same',activation='relu'))\n",
        "model_1.add(MaxPooling2D(pool_size=2))\n",
        "model_1.add(Dropout(0.25))\n",
        "model_1.add(Flatten())\n",
        "model_1.add(Dense(500,activation='relu'))\n",
        "model_1.add(Dropout(0.4))\n",
        "model_1.add(Dense(10,activation='softmax'))\n",
        "model_1.summary()"
      ],
      "metadata": {
        "colab": {
          "base_uri": "https://localhost:8080/",
          "height": 481
        },
        "id": "CxERi8Sn19mI",
        "outputId": "3d853902-29c6-4998-c27f-245b6fc1a3d4"
      },
      "execution_count": 18,
      "outputs": [
        {
          "output_type": "display_data",
          "data": {
            "text/plain": [
              "\u001b[1mModel: \"sequential_1\"\u001b[0m\n"
            ],
            "text/html": [
              "<pre style=\"white-space:pre;overflow-x:auto;line-height:normal;font-family:Menlo,'DejaVu Sans Mono',consolas,'Courier New',monospace\"><span style=\"font-weight: bold\">Model: \"sequential_1\"</span>\n",
              "</pre>\n"
            ]
          },
          "metadata": {}
        },
        {
          "output_type": "display_data",
          "data": {
            "text/plain": [
              "┏━━━━━━━━━━━━━━━━━━━━━━━━━━━━━━━━━━━━━━┳━━━━━━━━━━━━━━━━━━━━━━━━━━━━━┳━━━━━━━━━━━━━━━━━┓\n",
              "┃\u001b[1m \u001b[0m\u001b[1mLayer (type)                        \u001b[0m\u001b[1m \u001b[0m┃\u001b[1m \u001b[0m\u001b[1mOutput Shape               \u001b[0m\u001b[1m \u001b[0m┃\u001b[1m \u001b[0m\u001b[1m        Param #\u001b[0m\u001b[1m \u001b[0m┃\n",
              "┡━━━━━━━━━━━━━━━━━━━━━━━━━━━━━━━━━━━━━━╇━━━━━━━━━━━━━━━━━━━━━━━━━━━━━╇━━━━━━━━━━━━━━━━━┩\n",
              "│ conv2d_2 (\u001b[38;5;33mConv2D\u001b[0m)                    │ (\u001b[38;5;45mNone\u001b[0m, \u001b[38;5;34m32\u001b[0m, \u001b[38;5;34m32\u001b[0m, \u001b[38;5;34m16\u001b[0m)          │             \u001b[38;5;34m448\u001b[0m │\n",
              "├──────────────────────────────────────┼─────────────────────────────┼─────────────────┤\n",
              "│ max_pooling2d_2 (\u001b[38;5;33mMaxPooling2D\u001b[0m)       │ (\u001b[38;5;45mNone\u001b[0m, \u001b[38;5;34m16\u001b[0m, \u001b[38;5;34m16\u001b[0m, \u001b[38;5;34m16\u001b[0m)          │               \u001b[38;5;34m0\u001b[0m │\n",
              "├──────────────────────────────────────┼─────────────────────────────┼─────────────────┤\n",
              "│ conv2d_3 (\u001b[38;5;33mConv2D\u001b[0m)                    │ (\u001b[38;5;45mNone\u001b[0m, \u001b[38;5;34m16\u001b[0m, \u001b[38;5;34m16\u001b[0m, \u001b[38;5;34m32\u001b[0m)          │           \u001b[38;5;34m4,640\u001b[0m │\n",
              "├──────────────────────────────────────┼─────────────────────────────┼─────────────────┤\n",
              "│ max_pooling2d_3 (\u001b[38;5;33mMaxPooling2D\u001b[0m)       │ (\u001b[38;5;45mNone\u001b[0m, \u001b[38;5;34m8\u001b[0m, \u001b[38;5;34m8\u001b[0m, \u001b[38;5;34m32\u001b[0m)            │               \u001b[38;5;34m0\u001b[0m │\n",
              "├──────────────────────────────────────┼─────────────────────────────┼─────────────────┤\n",
              "│ conv2d_4 (\u001b[38;5;33mConv2D\u001b[0m)                    │ (\u001b[38;5;45mNone\u001b[0m, \u001b[38;5;34m8\u001b[0m, \u001b[38;5;34m8\u001b[0m, \u001b[38;5;34m64\u001b[0m)            │          \u001b[38;5;34m18,496\u001b[0m │\n",
              "├──────────────────────────────────────┼─────────────────────────────┼─────────────────┤\n",
              "│ max_pooling2d_4 (\u001b[38;5;33mMaxPooling2D\u001b[0m)       │ (\u001b[38;5;45mNone\u001b[0m, \u001b[38;5;34m4\u001b[0m, \u001b[38;5;34m4\u001b[0m, \u001b[38;5;34m64\u001b[0m)            │               \u001b[38;5;34m0\u001b[0m │\n",
              "├──────────────────────────────────────┼─────────────────────────────┼─────────────────┤\n",
              "│ dropout (\u001b[38;5;33mDropout\u001b[0m)                    │ (\u001b[38;5;45mNone\u001b[0m, \u001b[38;5;34m4\u001b[0m, \u001b[38;5;34m4\u001b[0m, \u001b[38;5;34m64\u001b[0m)            │               \u001b[38;5;34m0\u001b[0m │\n",
              "├──────────────────────────────────────┼─────────────────────────────┼─────────────────┤\n",
              "│ flatten_1 (\u001b[38;5;33mFlatten\u001b[0m)                  │ (\u001b[38;5;45mNone\u001b[0m, \u001b[38;5;34m1024\u001b[0m)                │               \u001b[38;5;34m0\u001b[0m │\n",
              "├──────────────────────────────────────┼─────────────────────────────┼─────────────────┤\n",
              "│ dense_2 (\u001b[38;5;33mDense\u001b[0m)                      │ (\u001b[38;5;45mNone\u001b[0m, \u001b[38;5;34m500\u001b[0m)                 │         \u001b[38;5;34m512,500\u001b[0m │\n",
              "├──────────────────────────────────────┼─────────────────────────────┼─────────────────┤\n",
              "│ dropout_1 (\u001b[38;5;33mDropout\u001b[0m)                  │ (\u001b[38;5;45mNone\u001b[0m, \u001b[38;5;34m500\u001b[0m)                 │               \u001b[38;5;34m0\u001b[0m │\n",
              "├──────────────────────────────────────┼─────────────────────────────┼─────────────────┤\n",
              "│ dense_3 (\u001b[38;5;33mDense\u001b[0m)                      │ (\u001b[38;5;45mNone\u001b[0m, \u001b[38;5;34m10\u001b[0m)                  │           \u001b[38;5;34m5,010\u001b[0m │\n",
              "└──────────────────────────────────────┴─────────────────────────────┴─────────────────┘\n"
            ],
            "text/html": [
              "<pre style=\"white-space:pre;overflow-x:auto;line-height:normal;font-family:Menlo,'DejaVu Sans Mono',consolas,'Courier New',monospace\">┏━━━━━━━━━━━━━━━━━━━━━━━━━━━━━━━━━━━━━━┳━━━━━━━━━━━━━━━━━━━━━━━━━━━━━┳━━━━━━━━━━━━━━━━━┓\n",
              "┃<span style=\"font-weight: bold\"> Layer (type)                         </span>┃<span style=\"font-weight: bold\"> Output Shape                </span>┃<span style=\"font-weight: bold\">         Param # </span>┃\n",
              "┡━━━━━━━━━━━━━━━━━━━━━━━━━━━━━━━━━━━━━━╇━━━━━━━━━━━━━━━━━━━━━━━━━━━━━╇━━━━━━━━━━━━━━━━━┩\n",
              "│ conv2d_2 (<span style=\"color: #0087ff; text-decoration-color: #0087ff\">Conv2D</span>)                    │ (<span style=\"color: #00d7ff; text-decoration-color: #00d7ff\">None</span>, <span style=\"color: #00af00; text-decoration-color: #00af00\">32</span>, <span style=\"color: #00af00; text-decoration-color: #00af00\">32</span>, <span style=\"color: #00af00; text-decoration-color: #00af00\">16</span>)          │             <span style=\"color: #00af00; text-decoration-color: #00af00\">448</span> │\n",
              "├──────────────────────────────────────┼─────────────────────────────┼─────────────────┤\n",
              "│ max_pooling2d_2 (<span style=\"color: #0087ff; text-decoration-color: #0087ff\">MaxPooling2D</span>)       │ (<span style=\"color: #00d7ff; text-decoration-color: #00d7ff\">None</span>, <span style=\"color: #00af00; text-decoration-color: #00af00\">16</span>, <span style=\"color: #00af00; text-decoration-color: #00af00\">16</span>, <span style=\"color: #00af00; text-decoration-color: #00af00\">16</span>)          │               <span style=\"color: #00af00; text-decoration-color: #00af00\">0</span> │\n",
              "├──────────────────────────────────────┼─────────────────────────────┼─────────────────┤\n",
              "│ conv2d_3 (<span style=\"color: #0087ff; text-decoration-color: #0087ff\">Conv2D</span>)                    │ (<span style=\"color: #00d7ff; text-decoration-color: #00d7ff\">None</span>, <span style=\"color: #00af00; text-decoration-color: #00af00\">16</span>, <span style=\"color: #00af00; text-decoration-color: #00af00\">16</span>, <span style=\"color: #00af00; text-decoration-color: #00af00\">32</span>)          │           <span style=\"color: #00af00; text-decoration-color: #00af00\">4,640</span> │\n",
              "├──────────────────────────────────────┼─────────────────────────────┼─────────────────┤\n",
              "│ max_pooling2d_3 (<span style=\"color: #0087ff; text-decoration-color: #0087ff\">MaxPooling2D</span>)       │ (<span style=\"color: #00d7ff; text-decoration-color: #00d7ff\">None</span>, <span style=\"color: #00af00; text-decoration-color: #00af00\">8</span>, <span style=\"color: #00af00; text-decoration-color: #00af00\">8</span>, <span style=\"color: #00af00; text-decoration-color: #00af00\">32</span>)            │               <span style=\"color: #00af00; text-decoration-color: #00af00\">0</span> │\n",
              "├──────────────────────────────────────┼─────────────────────────────┼─────────────────┤\n",
              "│ conv2d_4 (<span style=\"color: #0087ff; text-decoration-color: #0087ff\">Conv2D</span>)                    │ (<span style=\"color: #00d7ff; text-decoration-color: #00d7ff\">None</span>, <span style=\"color: #00af00; text-decoration-color: #00af00\">8</span>, <span style=\"color: #00af00; text-decoration-color: #00af00\">8</span>, <span style=\"color: #00af00; text-decoration-color: #00af00\">64</span>)            │          <span style=\"color: #00af00; text-decoration-color: #00af00\">18,496</span> │\n",
              "├──────────────────────────────────────┼─────────────────────────────┼─────────────────┤\n",
              "│ max_pooling2d_4 (<span style=\"color: #0087ff; text-decoration-color: #0087ff\">MaxPooling2D</span>)       │ (<span style=\"color: #00d7ff; text-decoration-color: #00d7ff\">None</span>, <span style=\"color: #00af00; text-decoration-color: #00af00\">4</span>, <span style=\"color: #00af00; text-decoration-color: #00af00\">4</span>, <span style=\"color: #00af00; text-decoration-color: #00af00\">64</span>)            │               <span style=\"color: #00af00; text-decoration-color: #00af00\">0</span> │\n",
              "├──────────────────────────────────────┼─────────────────────────────┼─────────────────┤\n",
              "│ dropout (<span style=\"color: #0087ff; text-decoration-color: #0087ff\">Dropout</span>)                    │ (<span style=\"color: #00d7ff; text-decoration-color: #00d7ff\">None</span>, <span style=\"color: #00af00; text-decoration-color: #00af00\">4</span>, <span style=\"color: #00af00; text-decoration-color: #00af00\">4</span>, <span style=\"color: #00af00; text-decoration-color: #00af00\">64</span>)            │               <span style=\"color: #00af00; text-decoration-color: #00af00\">0</span> │\n",
              "├──────────────────────────────────────┼─────────────────────────────┼─────────────────┤\n",
              "│ flatten_1 (<span style=\"color: #0087ff; text-decoration-color: #0087ff\">Flatten</span>)                  │ (<span style=\"color: #00d7ff; text-decoration-color: #00d7ff\">None</span>, <span style=\"color: #00af00; text-decoration-color: #00af00\">1024</span>)                │               <span style=\"color: #00af00; text-decoration-color: #00af00\">0</span> │\n",
              "├──────────────────────────────────────┼─────────────────────────────┼─────────────────┤\n",
              "│ dense_2 (<span style=\"color: #0087ff; text-decoration-color: #0087ff\">Dense</span>)                      │ (<span style=\"color: #00d7ff; text-decoration-color: #00d7ff\">None</span>, <span style=\"color: #00af00; text-decoration-color: #00af00\">500</span>)                 │         <span style=\"color: #00af00; text-decoration-color: #00af00\">512,500</span> │\n",
              "├──────────────────────────────────────┼─────────────────────────────┼─────────────────┤\n",
              "│ dropout_1 (<span style=\"color: #0087ff; text-decoration-color: #0087ff\">Dropout</span>)                  │ (<span style=\"color: #00d7ff; text-decoration-color: #00d7ff\">None</span>, <span style=\"color: #00af00; text-decoration-color: #00af00\">500</span>)                 │               <span style=\"color: #00af00; text-decoration-color: #00af00\">0</span> │\n",
              "├──────────────────────────────────────┼─────────────────────────────┼─────────────────┤\n",
              "│ dense_3 (<span style=\"color: #0087ff; text-decoration-color: #0087ff\">Dense</span>)                      │ (<span style=\"color: #00d7ff; text-decoration-color: #00d7ff\">None</span>, <span style=\"color: #00af00; text-decoration-color: #00af00\">10</span>)                  │           <span style=\"color: #00af00; text-decoration-color: #00af00\">5,010</span> │\n",
              "└──────────────────────────────────────┴─────────────────────────────┴─────────────────┘\n",
              "</pre>\n"
            ]
          },
          "metadata": {}
        },
        {
          "output_type": "display_data",
          "data": {
            "text/plain": [
              "\u001b[1m Total params: \u001b[0m\u001b[38;5;34m541,094\u001b[0m (2.06 MB)\n"
            ],
            "text/html": [
              "<pre style=\"white-space:pre;overflow-x:auto;line-height:normal;font-family:Menlo,'DejaVu Sans Mono',consolas,'Courier New',monospace\"><span style=\"font-weight: bold\"> Total params: </span><span style=\"color: #00af00; text-decoration-color: #00af00\">541,094</span> (2.06 MB)\n",
              "</pre>\n"
            ]
          },
          "metadata": {}
        },
        {
          "output_type": "display_data",
          "data": {
            "text/plain": [
              "\u001b[1m Trainable params: \u001b[0m\u001b[38;5;34m541,094\u001b[0m (2.06 MB)\n"
            ],
            "text/html": [
              "<pre style=\"white-space:pre;overflow-x:auto;line-height:normal;font-family:Menlo,'DejaVu Sans Mono',consolas,'Courier New',monospace\"><span style=\"font-weight: bold\"> Trainable params: </span><span style=\"color: #00af00; text-decoration-color: #00af00\">541,094</span> (2.06 MB)\n",
              "</pre>\n"
            ]
          },
          "metadata": {}
        },
        {
          "output_type": "display_data",
          "data": {
            "text/plain": [
              "\u001b[1m Non-trainable params: \u001b[0m\u001b[38;5;34m0\u001b[0m (0.00 B)\n"
            ],
            "text/html": [
              "<pre style=\"white-space:pre;overflow-x:auto;line-height:normal;font-family:Menlo,'DejaVu Sans Mono',consolas,'Courier New',monospace\"><span style=\"font-weight: bold\"> Non-trainable params: </span><span style=\"color: #00af00; text-decoration-color: #00af00\">0</span> (0.00 B)\n",
              "</pre>\n"
            ]
          },
          "metadata": {}
        }
      ]
    },
    {
      "cell_type": "code",
      "source": [
        "model_1.compile(optimizer='rmsprop',loss='categorical_crossentropy',metrics=['accuracy'])"
      ],
      "metadata": {
        "id": "bWE1cZhr3V9a"
      },
      "execution_count": 19,
      "outputs": []
    },
    {
      "cell_type": "code",
      "source": [
        "from keras.callbacks import ModelCheckpoint\n",
        "checkpoint = ModelCheckpoint(\"cifar10.keras\",verbose=1,save_best_only=True)\n",
        "hist_1=model_1.fit(x_train,y_train,batch_size=32,epochs=20,validation_data=(x_valid,y_valid),callbacks=[checkpoint],verbose=2,shuffle=True)"
      ],
      "metadata": {
        "colab": {
          "base_uri": "https://localhost:8080/"
        },
        "id": "Pi3ngLfD3t9R",
        "outputId": "7dd72dea-e229-41ab-f3ad-fb24c157270a"
      },
      "execution_count": 20,
      "outputs": [
        {
          "output_type": "stream",
          "name": "stdout",
          "text": [
            "Epoch 1/20\n",
            "\n",
            "Epoch 1: val_loss improved from inf to 2.45728, saving model to cifar10.keras\n",
            "1407/1407 - 9s - 7ms/step - accuracy: 0.4265 - loss: 1.5795 - val_accuracy: 0.2850 - val_loss: 2.4573\n",
            "Epoch 2/20\n",
            "\n",
            "Epoch 2: val_loss improved from 2.45728 to 1.13410, saving model to cifar10.keras\n",
            "1407/1407 - 5s - 4ms/step - accuracy: 0.5688 - loss: 1.2146 - val_accuracy: 0.6026 - val_loss: 1.1341\n",
            "Epoch 3/20\n",
            "\n",
            "Epoch 3: val_loss improved from 1.13410 to 1.03351, saving model to cifar10.keras\n",
            "1407/1407 - 5s - 4ms/step - accuracy: 0.6231 - loss: 1.0766 - val_accuracy: 0.6334 - val_loss: 1.0335\n",
            "Epoch 4/20\n",
            "\n",
            "Epoch 4: val_loss improved from 1.03351 to 0.92948, saving model to cifar10.keras\n",
            "1407/1407 - 4s - 3ms/step - accuracy: 0.6541 - loss: 0.9937 - val_accuracy: 0.6708 - val_loss: 0.9295\n",
            "Epoch 5/20\n",
            "\n",
            "Epoch 5: val_loss improved from 0.92948 to 0.86038, saving model to cifar10.keras\n",
            "1407/1407 - 4s - 3ms/step - accuracy: 0.6745 - loss: 0.9450 - val_accuracy: 0.7036 - val_loss: 0.8604\n",
            "Epoch 6/20\n",
            "\n",
            "Epoch 6: val_loss did not improve from 0.86038\n",
            "1407/1407 - 3s - 2ms/step - accuracy: 0.6882 - loss: 0.9080 - val_accuracy: 0.4728 - val_loss: 2.0431\n",
            "Epoch 7/20\n",
            "\n",
            "Epoch 7: val_loss did not improve from 0.86038\n",
            "1407/1407 - 6s - 4ms/step - accuracy: 0.6966 - loss: 0.8884 - val_accuracy: 0.6040 - val_loss: 1.1909\n",
            "Epoch 8/20\n",
            "\n",
            "Epoch 8: val_loss did not improve from 0.86038\n",
            "1407/1407 - 3s - 2ms/step - accuracy: 0.7062 - loss: 0.8711 - val_accuracy: 0.6622 - val_loss: 0.9940\n",
            "Epoch 9/20\n",
            "\n",
            "Epoch 9: val_loss did not improve from 0.86038\n",
            "1407/1407 - 5s - 4ms/step - accuracy: 0.7099 - loss: 0.8620 - val_accuracy: 0.6696 - val_loss: 1.0914\n",
            "Epoch 10/20\n",
            "\n",
            "Epoch 10: val_loss did not improve from 0.86038\n",
            "1407/1407 - 5s - 4ms/step - accuracy: 0.7126 - loss: 0.8674 - val_accuracy: 0.6352 - val_loss: 1.1805\n",
            "Epoch 11/20\n",
            "\n",
            "Epoch 11: val_loss did not improve from 0.86038\n",
            "1407/1407 - 5s - 4ms/step - accuracy: 0.7128 - loss: 0.8666 - val_accuracy: 0.7120 - val_loss: 0.8662\n",
            "Epoch 12/20\n",
            "\n",
            "Epoch 12: val_loss did not improve from 0.86038\n",
            "1407/1407 - 6s - 4ms/step - accuracy: 0.7172 - loss: 0.8573 - val_accuracy: 0.6900 - val_loss: 0.9291\n",
            "Epoch 13/20\n",
            "\n",
            "Epoch 13: val_loss did not improve from 0.86038\n",
            "1407/1407 - 4s - 3ms/step - accuracy: 0.7153 - loss: 0.8668 - val_accuracy: 0.6786 - val_loss: 0.9578\n",
            "Epoch 14/20\n",
            "\n",
            "Epoch 14: val_loss did not improve from 0.86038\n",
            "1407/1407 - 6s - 4ms/step - accuracy: 0.7130 - loss: 0.8714 - val_accuracy: 0.6352 - val_loss: 1.3769\n",
            "Epoch 15/20\n",
            "\n",
            "Epoch 15: val_loss did not improve from 0.86038\n",
            "1407/1407 - 4s - 3ms/step - accuracy: 0.7136 - loss: 0.8757 - val_accuracy: 0.6974 - val_loss: 0.9428\n",
            "Epoch 16/20\n",
            "\n",
            "Epoch 16: val_loss did not improve from 0.86038\n",
            "1407/1407 - 3s - 2ms/step - accuracy: 0.7099 - loss: 0.8843 - val_accuracy: 0.6862 - val_loss: 0.9543\n",
            "Epoch 17/20\n",
            "\n",
            "Epoch 17: val_loss did not improve from 0.86038\n",
            "1407/1407 - 3s - 2ms/step - accuracy: 0.7094 - loss: 0.8966 - val_accuracy: 0.7178 - val_loss: 0.9765\n",
            "Epoch 18/20\n",
            "\n",
            "Epoch 18: val_loss did not improve from 0.86038\n",
            "1407/1407 - 4s - 3ms/step - accuracy: 0.7085 - loss: 0.9048 - val_accuracy: 0.6764 - val_loss: 1.0370\n",
            "Epoch 19/20\n",
            "\n",
            "Epoch 19: val_loss did not improve from 0.86038\n",
            "1407/1407 - 5s - 3ms/step - accuracy: 0.7019 - loss: 0.9188 - val_accuracy: 0.6744 - val_loss: 1.6097\n",
            "Epoch 20/20\n",
            "\n",
            "Epoch 20: val_loss did not improve from 0.86038\n",
            "1407/1407 - 5s - 4ms/step - accuracy: 0.6963 - loss: 0.9391 - val_accuracy: 0.6280 - val_loss: 1.1176\n"
          ]
        }
      ]
    },
    {
      "cell_type": "code",
      "source": [
        "model_1.load_weights(\"cifar10.keras\")\n",
        "score=model_1.evaluate(x_test,y_test,verbose=0)\n",
        "print('Test loss:',score[0])\n",
        "print('Test accuracy:',score[1])"
      ],
      "metadata": {
        "colab": {
          "base_uri": "https://localhost:8080/"
        },
        "id": "5FyXoP6w387L",
        "outputId": "29d35ae6-fa70-40e4-8c81-f92b9778ed3f"
      },
      "execution_count": 23,
      "outputs": [
        {
          "output_type": "stream",
          "name": "stdout",
          "text": [
            "Test loss: 0.8888445496559143\n",
            "Test accuracy: 0.6942999958992004\n"
          ]
        }
      ]
    },
    {
      "cell_type": "code",
      "source": [],
      "metadata": {
        "id": "Jf8D7vKl8QzZ"
      },
      "execution_count": null,
      "outputs": []
    }
  ],
  "metadata": {
    "colab": {
      "provenance": [],
      "gpuType": "T4",
      "authorship_tag": "ABX9TyOOVpmjMBvvriRUln5N8edN",
      "include_colab_link": true
    },
    "kernelspec": {
      "display_name": "Python 3",
      "name": "python3"
    },
    "language_info": {
      "name": "python"
    },
    "accelerator": "GPU"
  },
  "nbformat": 4,
  "nbformat_minor": 0
}