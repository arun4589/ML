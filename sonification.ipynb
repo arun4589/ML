{
 "cells": [
  {
   "cell_type": "code",
   "execution_count": 38,
   "id": "c446f0e2-b0e4-4b8a-8d60-76e92f283d91",
   "metadata": {},
   "outputs": [],
   "source": [
    "import numpy as np\n",
    "from PIL import Image\n",
    "from pydub import AudioSegment\n",
    "from pydub.generators import Sine\n",
    "from io import BytesIO\n",
    "import requests\n"
   ]
  },
  {
   "cell_type": "code",
   "execution_count": null,
   "id": "368aecaa-8491-4d10-b352-1c03d703cdae",
   "metadata": {},
   "outputs": [],
   "source": [
    "\n",
    "def load_image_from_url(image_url):\n",
    "    try:\n",
    "        response = requests.get(image_url)\n",
    "        response.raise_for_status()\n",
    "        image = Image.open(BytesIO(response.content)).convert('L')  # Convert image to grayscale\n",
    "        image_data = np.array(image)\n",
    "        return image_data\n",
    "    except requests.exceptions.RequestException as e:\n",
    "        print(f\"Error fetching the image: {e}\")\n",
    "        return None\n",
    "    except Exception as e:\n",
    "        print(f\"An unexpected error occurred: {e}\")\n",
    "        return None\n"
   ]
  },
  {
   "cell_type": "code",
   "execution_count": null,
   "id": "244918cb-2906-4382-a770-964a31e694e9",
   "metadata": {},
   "outputs": [],
   "source": [
    "def load_image_from_file(image_path):\n",
    "    try:\n",
    "        image = Image.open(image_path).convert('L')  # Convert image to grayscale\n",
    "        image_data = np.array(image)\n",
    "        return image_data\n",
    "    except Exception as e:\n",
    "        print(f\"Error loading the image: {e}\")\n",
    "        return None\n"
   ]
  },
  {
   "cell_type": "code",
   "execution_count": null,
   "id": "5342247e-480d-40c3-b84b-fde9f9f5d17f",
   "metadata": {},
   "outputs": [],
   "source": [
    "def map_brightness_to_frequency(image_data, min_freq=220, max_freq=880):\n",
    "    if image_data is None:\n",
    "        return None\n",
    "    norm_image_data = image_data / 255.0  # Normalize to [0, 1]\n",
    "    frequencies = min_freq + (max_freq - min_freq) * norm_image_data\n",
    "    return frequencies\n"
   ]
  },
  {
   "cell_type": "code",
   "execution_count": null,
   "id": "35fea60a-12bb-4aa0-8c8f-0343d1b02698",
   "metadata": {},
   "outputs": [],
   "source": [
    "def generate_sound(frequencies, duration=50):\n",
    "    if frequencies is None:\n",
    "        return None\n",
    "    sound = AudioSegment.silent(duration=0)\n",
    "    for freq in frequencies.flatten():\n",
    "        tone = Sine(freq).to_audio_segment(duration=duration)\n",
    "        sound += tone\n",
    "    return sound\n"
   ]
  },
  {
   "cell_type": "code",
   "execution_count": null,
   "id": "1fbd46f2-87cd-4ab0-bebb-a4db940a3027",
   "metadata": {},
   "outputs": [],
   "source": [
    "def image_to_sound(image_source, is_url=True, duration_per_tone=50, min_freq=220, max_freq=880, output_file=\"output_sound.wav\"):\n",
    "    # Load image\n",
    "    if is_url:\n",
    "        image_data = load_image_from_url(image_source)\n",
    "    else:\n",
    "        image_data = load_image_from_file(image_source)\n",
    "    \n",
    "    if image_data is None:\n",
    "        print(\"Failed to load image. Exiting.\")\n",
    "        return\n",
    "    \n",
    "    # Map brightness to frequency\n",
    "    frequencies = map_brightness_to_frequency(image_data, min_freq, max_freq)\n",
    "    \n",
    "    # Generate sound\n",
    "    sound = generate_sound(frequencies, duration_per_tone)\n",
    "    \n",
    "    # Export the sound to a file\n",
    "    sound.export(output_file, format=\"wav\")\n",
    "    print(f\"Sound saved to {output_file}\")\n",
    "\n",
    "# Example usage for URL\n",
    "image_url = \"https://example.com/path/to/your/image.jpg\"\n",
    "image_to_sound(image_url, is_url=True, duration_per_tone=50, min_freq=220, max_freq=880, output_file=\"output_sound.wav\")\n",
    "\n",
    "# Example usage for local file\n",
    "# image_path = \"your_image_file.jpg\"\n",
    "# image_to_sound(image_path, is_url=False, duration_per_tone=50, min_freq=220, max_freq=880, output_file=\"output_sound.wav\")\n"
   ]
  },
  {
   "cell_type": "code",
   "execution_count": null,
   "id": "cb7404ae-4cbc-4906-831d-ad310139b133",
   "metadata": {},
   "outputs": [],
   "source": []
  }
 ],
 "metadata": {
  "kernelspec": {
   "display_name": "Python 3 (ipykernel)",
   "language": "python",
   "name": "python3"
  },
  "language_info": {
   "codemirror_mode": {
    "name": "ipython",
    "version": 3
   },
   "file_extension": ".py",
   "mimetype": "text/x-python",
   "name": "python",
   "nbconvert_exporter": "python",
   "pygments_lexer": "ipython3",
   "version": "3.10.11"
  }
 },
 "nbformat": 4,
 "nbformat_minor": 5
}
