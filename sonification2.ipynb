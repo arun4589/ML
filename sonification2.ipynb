{
 "cells": [
  {
   "cell_type": "code",
   "execution_count": 2,
   "id": "000ae261-a24e-403d-86f0-b9e0a2442014",
   "metadata": {},
   "outputs": [
    {
     "data": {
      "text/plain": [
       "array([[102,  85,  28, ...,  87,  88,  89],\n",
       "       [ 36,  49,  54, ...,  88,  88,  89],\n",
       "       [ 82,  68,  72, ...,  88,  89,  89],\n",
       "       ...,\n",
       "       [ 46,  47,  48, ..., 119, 120, 120],\n",
       "       [ 47,  49,  50, ..., 118, 118, 118],\n",
       "       [ 48,  50,  51, ..., 117, 117, 117]], dtype=uint8)"
      ]
     },
     "execution_count": 2,
     "metadata": {},
     "output_type": "execute_result"
    }
   ],
   "source": [
    "from PIL import Image\n",
    "import numpy as np\n",
    "\n",
    "def load_image(image_path):\n",
    "    # Load the image and convert it to grayscale\n",
    "    image = Image.open(image_path).convert('L')\n",
    "    # Convert image to a NumPy array\n",
    "    image_data = np.array(image)\n",
    "    return image_data\n",
    "\n",
    "# Example: Load an image (replace 'example.jpg' with your image file)\n",
    "image_data = load_image('862917.jpg')\n",
    "image_data\n"
   ]
  },
  {
   "cell_type": "code",
   "execution_count": 3,
   "id": "3202845d-9f8f-4fc2-a9d0-73a146dfa866",
   "metadata": {},
   "outputs": [
    {
     "data": {
      "text/plain": [
       "array([[484.        , 440.        , 292.47058824, ..., 445.17647059,\n",
       "        447.76470588, 450.35294118],\n",
       "       [313.17647059, 346.82352941, 359.76470588, ..., 447.76470588,\n",
       "        447.76470588, 450.35294118],\n",
       "       [432.23529412, 396.        , 406.35294118, ..., 447.76470588,\n",
       "        450.35294118, 450.35294118],\n",
       "       ...,\n",
       "       [339.05882353, 341.64705882, 344.23529412, ..., 528.        ,\n",
       "        530.58823529, 530.58823529],\n",
       "       [341.64705882, 346.82352941, 349.41176471, ..., 525.41176471,\n",
       "        525.41176471, 525.41176471],\n",
       "       [344.23529412, 349.41176471, 352.        , ..., 522.82352941,\n",
       "        522.82352941, 522.82352941]])"
      ]
     },
     "execution_count": 3,
     "metadata": {},
     "output_type": "execute_result"
    }
   ],
   "source": [
    "def map_brightness_to_frequency(image_data, min_freq=220, max_freq=880):\n",
    "    # Normalize the image data to the range [0, 1]\n",
    "    norm_image_data = image_data / 255.0\n",
    "    # Map the normalized data to a frequency range\n",
    "    frequencies = min_freq + (max_freq - min_freq) * norm_image_data\n",
    "    return frequencies\n",
    "\n",
    "frequencies = map_brightness_to_frequency(image_data)\n",
    "frequencies\n"
   ]
  },
  {
   "cell_type": "code",
   "execution_count": 8,
   "id": "c2411a4d-2461-4a80-9fe5-5b5e6ef468f7",
   "metadata": {},
   "outputs": [
    {
     "data": {
      "text/plain": [
       "(1080, 1920)"
      ]
     },
     "execution_count": 8,
     "metadata": {},
     "output_type": "execute_result"
    }
   ],
   "source": [
    "frequencies.shape"
   ]
  },
  {
   "cell_type": "code",
   "execution_count": 7,
   "id": "a3713339-94ec-4548-9adc-a37e67b26fcc",
   "metadata": {},
   "outputs": [
    {
     "ename": "KeyboardInterrupt",
     "evalue": "",
     "output_type": "error",
     "traceback": [
      "\u001b[1;31m---------------------------------------------------------------------------\u001b[0m",
      "\u001b[1;31mKeyboardInterrupt\u001b[0m                         Traceback (most recent call last)",
      "Cell \u001b[1;32mIn[7], line 13\u001b[0m\n\u001b[0;32m     10\u001b[0m     \u001b[38;5;28;01mreturn\u001b[39;00m sound\n\u001b[0;32m     12\u001b[0m \u001b[38;5;66;03m# Example: Generate sound from the frequency data\u001b[39;00m\n\u001b[1;32m---> 13\u001b[0m sound \u001b[38;5;241m=\u001b[39m \u001b[43mgenerate_sound\u001b[49m\u001b[43m(\u001b[49m\u001b[43mfrequencies\u001b[49m\u001b[43m)\u001b[49m\n",
      "Cell \u001b[1;32mIn[7], line 9\u001b[0m, in \u001b[0;36mgenerate_sound\u001b[1;34m(frequencies, duration)\u001b[0m\n\u001b[0;32m      6\u001b[0m \u001b[38;5;28;01mfor\u001b[39;00m freq \u001b[38;5;129;01min\u001b[39;00m frequencies\u001b[38;5;241m.\u001b[39mflatten():\n\u001b[0;32m      7\u001b[0m     \u001b[38;5;66;03m# Create a sine wave for each frequency\u001b[39;00m\n\u001b[0;32m      8\u001b[0m     tone \u001b[38;5;241m=\u001b[39m Sine(freq)\u001b[38;5;241m.\u001b[39mto_audio_segment(duration\u001b[38;5;241m=\u001b[39mduration)\n\u001b[1;32m----> 9\u001b[0m     sound \u001b[38;5;241m+\u001b[39m\u001b[38;5;241m=\u001b[39m tone\n\u001b[0;32m     10\u001b[0m \u001b[38;5;28;01mreturn\u001b[39;00m sound\n",
      "File \u001b[1;32m~\\AppData\\Local\\Programs\\Python\\Python310\\lib\\site-packages\\pydub\\audio_segment.py:364\u001b[0m, in \u001b[0;36mAudioSegment.__add__\u001b[1;34m(self, arg)\u001b[0m\n\u001b[0;32m    362\u001b[0m \u001b[38;5;28;01mdef\u001b[39;00m \u001b[38;5;21m__add__\u001b[39m(\u001b[38;5;28mself\u001b[39m, arg):\n\u001b[0;32m    363\u001b[0m     \u001b[38;5;28;01mif\u001b[39;00m \u001b[38;5;28misinstance\u001b[39m(arg, AudioSegment):\n\u001b[1;32m--> 364\u001b[0m         \u001b[38;5;28;01mreturn\u001b[39;00m \u001b[38;5;28;43mself\u001b[39;49m\u001b[38;5;241;43m.\u001b[39;49m\u001b[43mappend\u001b[49m\u001b[43m(\u001b[49m\u001b[43marg\u001b[49m\u001b[43m,\u001b[49m\u001b[43m \u001b[49m\u001b[43mcrossfade\u001b[49m\u001b[38;5;241;43m=\u001b[39;49m\u001b[38;5;241;43m0\u001b[39;49m\u001b[43m)\u001b[49m\n\u001b[0;32m    365\u001b[0m     \u001b[38;5;28;01melse\u001b[39;00m:\n\u001b[0;32m    366\u001b[0m         \u001b[38;5;28;01mreturn\u001b[39;00m \u001b[38;5;28mself\u001b[39m\u001b[38;5;241m.\u001b[39mapply_gain(arg)\n",
      "File \u001b[1;32m~\\AppData\\Local\\Programs\\Python\\Python310\\lib\\site-packages\\pydub\\audio_segment.py:1254\u001b[0m, in \u001b[0;36mAudioSegment.append\u001b[1;34m(self, seg, crossfade)\u001b[0m\n\u001b[0;32m   1251\u001b[0m seg1, seg2 \u001b[38;5;241m=\u001b[39m AudioSegment\u001b[38;5;241m.\u001b[39m_sync(\u001b[38;5;28mself\u001b[39m, seg)\n\u001b[0;32m   1253\u001b[0m \u001b[38;5;28;01mif\u001b[39;00m \u001b[38;5;129;01mnot\u001b[39;00m crossfade:\n\u001b[1;32m-> 1254\u001b[0m     \u001b[38;5;28;01mreturn\u001b[39;00m \u001b[43mseg1\u001b[49m\u001b[38;5;241;43m.\u001b[39;49m\u001b[43m_spawn\u001b[49m\u001b[43m(\u001b[49m\u001b[43mseg1\u001b[49m\u001b[38;5;241;43m.\u001b[39;49m\u001b[43m_data\u001b[49m\u001b[43m \u001b[49m\u001b[38;5;241;43m+\u001b[39;49m\u001b[43m \u001b[49m\u001b[43mseg2\u001b[49m\u001b[38;5;241;43m.\u001b[39;49m\u001b[43m_data\u001b[49m\u001b[43m)\u001b[49m\n\u001b[0;32m   1255\u001b[0m \u001b[38;5;28;01melif\u001b[39;00m crossfade \u001b[38;5;241m>\u001b[39m \u001b[38;5;28mlen\u001b[39m(\u001b[38;5;28mself\u001b[39m):\n\u001b[0;32m   1256\u001b[0m     \u001b[38;5;28;01mraise\u001b[39;00m \u001b[38;5;167;01mValueError\u001b[39;00m(\u001b[38;5;124m\"\u001b[39m\u001b[38;5;124mCrossfade is longer than the original AudioSegment (\u001b[39m\u001b[38;5;132;01m{}\u001b[39;00m\u001b[38;5;124mms > \u001b[39m\u001b[38;5;132;01m{}\u001b[39;00m\u001b[38;5;124mms)\u001b[39m\u001b[38;5;124m\"\u001b[39m\u001b[38;5;241m.\u001b[39mformat(\n\u001b[0;32m   1257\u001b[0m         crossfade, \u001b[38;5;28mlen\u001b[39m(\u001b[38;5;28mself\u001b[39m)\n\u001b[0;32m   1258\u001b[0m     ))\n",
      "File \u001b[1;32m~\\AppData\\Local\\Programs\\Python\\Python310\\lib\\site-packages\\pydub\\audio_segment.py:410\u001b[0m, in \u001b[0;36mAudioSegment._spawn\u001b[1;34m(self, data, overrides)\u001b[0m\n\u001b[0;32m    403\u001b[0m \u001b[38;5;250m\u001b[39m\u001b[38;5;124;03m\"\"\"\u001b[39;00m\n\u001b[0;32m    404\u001b[0m \u001b[38;5;124;03mCreates a new audio segment using the metadata from the current one\u001b[39;00m\n\u001b[0;32m    405\u001b[0m \u001b[38;5;124;03mand the data passed in. Should be used whenever an AudioSegment is\u001b[39;00m\n\u001b[0;32m    406\u001b[0m \u001b[38;5;124;03mbeing returned by an operation that would alters the current one,\u001b[39;00m\n\u001b[0;32m    407\u001b[0m \u001b[38;5;124;03msince AudioSegment objects are immutable.\u001b[39;00m\n\u001b[0;32m    408\u001b[0m \u001b[38;5;124;03m\"\"\"\u001b[39;00m\n\u001b[0;32m    409\u001b[0m \u001b[38;5;66;03m# accept lists of data chunks\u001b[39;00m\n\u001b[1;32m--> 410\u001b[0m \u001b[38;5;28;01mif\u001b[39;00m \u001b[38;5;28;43misinstance\u001b[39;49m\u001b[43m(\u001b[49m\u001b[43mdata\u001b[49m\u001b[43m,\u001b[49m\u001b[43m \u001b[49m\u001b[38;5;28;43mlist\u001b[39;49m\u001b[43m)\u001b[49m:\n\u001b[0;32m    411\u001b[0m     data \u001b[38;5;241m=\u001b[39m \u001b[38;5;124mb\u001b[39m\u001b[38;5;124m'\u001b[39m\u001b[38;5;124m'\u001b[39m\u001b[38;5;241m.\u001b[39mjoin(data)\n\u001b[0;32m    413\u001b[0m \u001b[38;5;28;01mif\u001b[39;00m \u001b[38;5;28misinstance\u001b[39m(data, array\u001b[38;5;241m.\u001b[39marray):\n",
      "\u001b[1;31mKeyboardInterrupt\u001b[0m: "
     ]
    }
   ],
   "source": [
    "from pydub import AudioSegment\n",
    "from pydub.generators import Sine\n",
    "\n",
    "def generate_sound(frequencies, duration=0.1):\n",
    "    sound = AudioSegment.silent(duration=0)\n",
    "    for freq in frequencies.flatten():\n",
    "        # Create a sine wave for each frequency\n",
    "        tone = Sine(freq).to_audio_segment(duration=duration)\n",
    "        sound += tone\n",
    "    return sound\n",
    "\n",
    "# Example: Generate sound from the frequency data\n",
    "sound = generate_sound(frequencies)\n"
   ]
  },
  {
   "cell_type": "code",
   "execution_count": null,
   "id": "4c6d0716-2b42-4325-b5d9-ec1afafed3ba",
   "metadata": {},
   "outputs": [],
   "source": []
  }
 ],
 "metadata": {
  "kernelspec": {
   "display_name": "Python 3 (ipykernel)",
   "language": "python",
   "name": "python3"
  },
  "language_info": {
   "codemirror_mode": {
    "name": "ipython",
    "version": 3
   },
   "file_extension": ".py",
   "mimetype": "text/x-python",
   "name": "python",
   "nbconvert_exporter": "python",
   "pygments_lexer": "ipython3",
   "version": "3.10.11"
  }
 },
 "nbformat": 4,
 "nbformat_minor": 5
}
